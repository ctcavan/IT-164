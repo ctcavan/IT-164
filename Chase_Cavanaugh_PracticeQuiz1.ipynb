{
  "nbformat": 4,
  "nbformat_minor": 0,
  "metadata": {
    "colab": {
      "provenance": [],
      "authorship_tag": "ABX9TyPzOto9tM9cG7aFctLiOvhd",
      "include_colab_link": true
    },
    "kernelspec": {
      "name": "python3",
      "display_name": "Python 3"
    },
    "language_info": {
      "name": "python"
    }
  },
  "cells": [
    {
      "cell_type": "markdown",
      "metadata": {
        "id": "view-in-github",
        "colab_type": "text"
      },
      "source": [
        "<a href=\"https://colab.research.google.com/github/ctcavan/IT-164/blob/main/Chase_Cavanaugh_PracticeQuiz1.ipynb\" target=\"_parent\"><img src=\"https://colab.research.google.com/assets/colab-badge.svg\" alt=\"Open In Colab\"/></a>"
      ]
    },
    {
      "cell_type": "code",
      "execution_count": 3,
      "metadata": {
        "colab": {
          "base_uri": "https://localhost:8080/"
        },
        "id": "7tTM2R9laFar",
        "outputId": "3bac9270-d723-45e7-b497-626e3ecb02cc"
      },
      "outputs": [
        {
          "output_type": "stream",
          "name": "stdout",
          "text": [
            "provide the width of the rectangle:5\n",
            "provide the height of the rectangle:4\n",
            "the area of a rectangle with width 5.0 and height 4.0 is 20.0\n",
            "the perimeter of a rectangle with height 4.0 and width 5.0 is 18.0\n",
            "the area is 20.000, and the perimter is 18.0\n"
          ]
        }
      ],
      "source": [
        "#Question1\n",
        "\n",
        "width=float(input('provide the width of the rectangle:'))\n",
        "height=float(input('provide the height of the rectangle:'))\n",
        "\n",
        "area= width* height\n",
        "perimeter= 2*(width+height)\n",
        "\n",
        "print('the area of a rectangle with width', width, 'and height', height, 'is', area)\n",
        "print('the perimeter of a rectangle with height', height, 'and width', width, 'is', perimeter)\n",
        "\n",
        "print('the area is {:.3f}, and the perimter is {:.1f}'.format(area,perimeter))"
      ]
    },
    {
      "cell_type": "code",
      "source": [
        "#Question2\n",
        "\n",
        "height=float(input('please provide your height: '))\n",
        "weight=float(input('please provide your weight: '))\n",
        "\n",
        "BMI = (weight/(height*height))*703\n",
        "print('the BMI of someone with {:.2f} and weight {:.1f} is {:.3f}' .format(height,weight,BMI))"
      ],
      "metadata": {
        "id": "AmsEowK-bJyg"
      },
      "execution_count": null,
      "outputs": []
    }
  ]
}