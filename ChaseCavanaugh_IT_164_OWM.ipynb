{
  "nbformat": 4,
  "nbformat_minor": 0,
  "metadata": {
    "colab": {
      "name": "ChaseCavanaugh_IT-164 OWM",
      "provenance": [],
      "authorship_tag": "ABX9TyMaYQ1sur0kC6uf24G7OXse",
      "include_colab_link": true
    },
    "kernelspec": {
      "name": "python3",
      "display_name": "Python 3"
    },
    "language_info": {
      "name": "python"
    }
  },
  "cells": [
    {
      "cell_type": "markdown",
      "metadata": {
        "id": "view-in-github",
        "colab_type": "text"
      },
      "source": [
        "<a href=\"https://colab.research.google.com/github/ctcavan/IT-164/blob/main/ChaseCavanaugh_IT_164_OWM.ipynb\" target=\"_parent\"><img src=\"https://colab.research.google.com/assets/colab-badge.svg\" alt=\"Open In Colab\"/></a>"
      ]
    },
    {
      "cell_type": "code",
      "source": [
        "!pip install pyowm"
      ],
      "metadata": {
        "colab": {
          "base_uri": "https://localhost:8080/"
        },
        "id": "wRxP6TxjnKLd",
        "outputId": "ff5678ce-b9a2-47f6-f88d-a85e784a9d9f"
      },
      "execution_count": 7,
      "outputs": [
        {
          "output_type": "stream",
          "name": "stdout",
          "text": [
            "Looking in indexes: https://pypi.org/simple, https://us-python.pkg.dev/colab-wheels/public/simple/\n",
            "Requirement already satisfied: pyowm in /usr/local/lib/python3.7/dist-packages (3.3.0)\n",
            "Requirement already satisfied: geojson<3,>=2.3.0 in /usr/local/lib/python3.7/dist-packages (from pyowm) (2.5.0)\n",
            "Requirement already satisfied: requests<3,>=2.20.0 in /usr/local/lib/python3.7/dist-packages (from pyowm) (2.23.0)\n",
            "Requirement already satisfied: PySocks<2,>=1.7.1 in /usr/local/lib/python3.7/dist-packages (from pyowm) (1.7.1)\n",
            "Requirement already satisfied: certifi>=2017.4.17 in /usr/local/lib/python3.7/dist-packages (from requests<3,>=2.20.0->pyowm) (2022.6.15)\n",
            "Requirement already satisfied: idna<3,>=2.5 in /usr/local/lib/python3.7/dist-packages (from requests<3,>=2.20.0->pyowm) (2.10)\n",
            "Requirement already satisfied: urllib3!=1.25.0,!=1.25.1,<1.26,>=1.21.1 in /usr/local/lib/python3.7/dist-packages (from requests<3,>=2.20.0->pyowm) (1.24.3)\n",
            "Requirement already satisfied: chardet<4,>=3.0.2 in /usr/local/lib/python3.7/dist-packages (from requests<3,>=2.20.0->pyowm) (3.0.4)\n"
          ]
        }
      ]
    },
    {
      "cell_type": "code",
      "source": [
        "from pyowm.owm import OWM \n",
        "\n",
        "myKey='40749165150da0e109eedb542b2771f1'\n",
        "owm= OWM(myKey)\n",
        "wmg=owm.weather_manager()"
      ],
      "metadata": {
        "id": "7lqoml1plnka"
      },
      "execution_count": 10,
      "outputs": []
    },
    {
      "cell_type": "code",
      "execution_count": 11,
      "metadata": {
        "colab": {
          "base_uri": "https://localhost:8080/"
        },
        "id": "a74SDzLWfTw3",
        "outputId": "f77a3f4b-f131-47e7-babb-c47ec2930dcc"
      },
      "outputs": [
        {
          "output_type": "stream",
          "name": "stdout",
          "text": [
            "what city would you like to teleport to: Dallas\n",
            "what country is the city in: US\n",
            "{'temp': 84.65, 'temp_max': 88.14, 'temp_min': 80.98, 'feels_like': 89.87, 'temp_kf': None}\n",
            "89.87\n",
            "you can wear your summer outfit if you want to go on a walk in Dallas, US\n"
          ]
        }
      ],
      "source": [
        "city= input('what city would you like to teleport to: ')\n",
        "country= input('what country is the city in: ')\n",
        "citycountry=city+ ', '+country\n",
        "\n",
        "observation=wmg.weather_at_place(citycountry)\n",
        "weather=observation.weather\n",
        "\n",
        "temperature=weather.temperature('fahrenheit')\n",
        "print(temperature)\n",
        "\n",
        "feellike=temperature.get ('feels_like')\n",
        "print(feellike)\n",
        "\n",
        "if feellike <30:\n",
        "  print ('you need a winter jacket if you want to go on a walk in', citycountry)\n",
        "elif feellike <50:\n",
        "  print ('you need a light jacket if you want to go on a walk in', citycountry)\n",
        "elif feellike <70:\n",
        "  print('you may want to dress in layers if you want to go on a walk in', citycountry)\n",
        "else:\n",
        "  print('you can wear your summer outfit if you want to go on a walk in', citycountry)\n"
      ]
    }
  ]
}