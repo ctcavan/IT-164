{
  "nbformat": 4,
  "nbformat_minor": 0,
  "metadata": {
    "colab": {
      "provenance": [],
      "authorship_tag": "ABX9TyOEyFulyxZgoreW0zVhT/w/",
      "include_colab_link": true
    },
    "kernelspec": {
      "name": "python3",
      "display_name": "Python 3"
    },
    "language_info": {
      "name": "python"
    }
  },
  "cells": [
    {
      "cell_type": "markdown",
      "metadata": {
        "id": "view-in-github",
        "colab_type": "text"
      },
      "source": [
        "<a href=\"https://colab.research.google.com/github/ctcavan/IT-164/blob/main/cavanaugh_quiz2.ipynb\" target=\"_parent\"><img src=\"https://colab.research.google.com/assets/colab-badge.svg\" alt=\"Open In Colab\"/></a>"
      ]
    },
    {
      "cell_type": "code",
      "execution_count": null,
      "metadata": {
        "colab": {
          "base_uri": "https://localhost:8080/"
        },
        "id": "7V-iQOQ27CSx",
        "outputId": "70202f1d-95bb-402f-cbdd-ec745687f8c6"
      },
      "outputs": [
        {
          "output_type": "stream",
          "name": "stdout",
          "text": [
            "Enter first number: 1\n",
            "Enter second number: 1\n",
            "2\n"
          ]
        }
      ],
      "source": [
        "numList = []\n",
        "\n",
        "numOne = int(input('Enter first number: '))\n",
        "numList.append(numOne)\n",
        "\n",
        "numTwo = int(input('Enter second number: '))\n",
        "numList.append(numTwo)\n",
        "\n",
        "if (numList[0] > numList[1]):\n",
        "  print(int(numOne * numTwo))\n",
        "\n",
        "if (numList[0] < numList[1]):\n",
        "  print(int(numTwo * numTwo))\n",
        "\n",
        "if (numList[0] == numList[1]):\n",
        "  print(int(numOne + numTwo))"
      ]
    }
  ]
}